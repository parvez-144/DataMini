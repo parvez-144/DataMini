{
 "cells": [
  {
   "cell_type": "code",
   "execution_count": 1,
   "metadata": {},
   "outputs": [],
   "source": [
    "def generate_candidates(prev_freq_itemsets, k):\n",
    "    candidates = set()\n",
    "    prev_freq_itemsets = list(prev_freq_itemsets)\n",
    "    for i in range(len(prev_freq_itemsets)):\n",
    "        for j in range(i+1, len(prev_freq_itemsets)):\n",
    "            union_set = prev_freq_itemsets[i] | prev_freq_itemsets[j]\n",
    "            if len(union_set) == k:\n",
    "                candidates.add(union_set)\n",
    "    return candidates"
   ]
  },
  {
   "cell_type": "code",
   "execution_count": 2,
   "metadata": {},
   "outputs": [],
   "source": [
    "def prune_candidates(transactions, candidates, min_support):\n",
    "    itemset_count = {itemset: 0 for itemset in candidates}\n",
    "    for transaction in transactions:\n",
    "        for candidate in candidates:\n",
    "            if candidate.issubset(transaction):\n",
    "                itemset_count[candidate] += 1\n",
    "\n",
    "    # Prune and return frequent itemsets\n",
    "    n_transactions = len(transactions)\n",
    "    freq_itemsets = {itemset for itemset, count in itemset_count.items() if count / n_transactions >= min_support}\n",
    "    return freq_itemsets, {itemset: count for itemset, count in itemset_count.items() if count / n_transactions >= min_support}"
   ]
  },
  {
   "cell_type": "code",
   "execution_count": 3,
   "metadata": {},
   "outputs": [],
   "source": [
    "def apriori(transactions, min_support):\n",
    "    transactions = list(map(set, transactions))\n",
    "    itemsets = {frozenset([item]) for transaction in transactions for item in transaction}\n",
    "    freq_itemsets, support_data = prune_candidates(transactions, itemsets, min_support)\n",
    "\n",
    "    k = 2\n",
    "    all_freq_itemsets = []\n",
    "    while freq_itemsets:\n",
    "        all_freq_itemsets.extend(freq_itemsets)\n",
    "        candidates = generate_candidates(freq_itemsets, k)\n",
    "        freq_itemsets, support_k = prune_candidates(transactions, candidates, min_support)\n",
    "        support_data.update(support_k)\n",
    "        k += 1\n",
    "\n",
    "    return all_freq_itemsets, support_data"
   ]
  },
  {
   "cell_type": "code",
   "execution_count": 4,
   "metadata": {},
   "outputs": [],
   "source": [
    "from itertools import combinations\n",
    "def generate_association_rules(freq_itemsets, support_data, min_confidence):\n",
    "    rules = []\n",
    "    for itemset in freq_itemsets:\n",
    "        for i in range(1, len(itemset)):\n",
    "            for subset in combinations(itemset, i):\n",
    "                subset = frozenset(subset)\n",
    "                confidence = support_data[itemset] / support_data[subset]\n",
    "                if confidence >= min_confidence:\n",
    "                    rules.append((subset, itemset - subset, confidence))\n",
    "    return rules"
   ]
  },
  {
   "cell_type": "code",
   "execution_count": 5,
   "metadata": {},
   "outputs": [
    {
     "name": "stdout",
     "output_type": "stream",
     "text": [
      "Frequent Itemsets:\n",
      "frozenset({'B'})\n",
      "frozenset({'C'})\n",
      "frozenset({'A'})\n",
      "frozenset({'B', 'C'})\n",
      "frozenset({'A', 'C'})\n",
      "frozenset({'B', 'A'})\n",
      "\n",
      "Association Rules:\n",
      "frozenset({'B'}) -> frozenset({'C'}), confidence: 0.80\n",
      "frozenset({'C'}) -> frozenset({'B'}), confidence: 0.80\n",
      "frozenset({'A'}) -> frozenset({'C'}), confidence: 0.75\n",
      "frozenset({'A'}) -> frozenset({'B'}), confidence: 0.75\n"
     ]
    }
   ],
   "source": [
    "if __name__ == '__main__':\n",
    "    # Transactions\n",
    "    transactions = [\n",
    "        ['A', 'B', 'C'],\n",
    "        ['A', 'B'],\n",
    "        ['A', 'C'],\n",
    "        ['B', 'C'],\n",
    "        ['A', 'B', 'C'],\n",
    "        ['B', 'C']\n",
    "    ]\n",
    "    \n",
    "    min_support = 0.5\n",
    "    min_confidence = 0.7\n",
    "    \n",
    "    freq_itemsets, support_data = apriori(transactions, min_support)\n",
    "    rules = generate_association_rules(freq_itemsets, support_data, min_confidence)\n",
    "    \n",
    "    print(\"Frequent Itemsets:\")\n",
    "    for itemset in freq_itemsets:\n",
    "        print(itemset)\n",
    "    \n",
    "    print(\"\\nAssociation Rules:\")\n",
    "    for rule in rules:\n",
    "        print(f\"{rule[0]} -> {rule[1]}, confidence: {rule[2]:.2f}\")\n"
   ]
  }
 ],
 "metadata": {
  "kernelspec": {
   "display_name": "Python 3",
   "language": "python",
   "name": "python3"
  },
  "language_info": {
   "codemirror_mode": {
    "name": "ipython",
    "version": 3
   },
   "file_extension": ".py",
   "mimetype": "text/x-python",
   "name": "python",
   "nbconvert_exporter": "python",
   "pygments_lexer": "ipython3",
   "version": "3.12.1"
  }
 },
 "nbformat": 4,
 "nbformat_minor": 2
}
