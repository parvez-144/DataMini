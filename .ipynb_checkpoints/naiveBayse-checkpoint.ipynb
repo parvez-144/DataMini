{
 "cells": [
  {
   "cell_type": "code",
   "execution_count": 1,
   "metadata": {},
   "outputs": [],
   "source": [
    "import pandas as pd\n",
    "import numpy as np"
   ]
  },
  {
   "cell_type": "code",
   "execution_count": 2,
   "metadata": {},
   "outputs": [],
   "source": [
    "def load_data(file_path):\n",
    "    return pd.read_csv(file_path)"
   ]
  },
  {
   "cell_type": "code",
   "execution_count": 3,
   "metadata": {},
   "outputs": [],
   "source": [
    "def split_features_target(dataset, target_column):\n",
    "    X = dataset.drop(columns=[target_column])  # Features\n",
    "    y = dataset[target_column]  # Target variable\n",
    "    return X, y"
   ]
  },
  {
   "cell_type": "code",
   "execution_count": 4,
   "metadata": {},
   "outputs": [],
   "source": [
    "def calculate_prior(y):\n",
    "    class_counts = y.value_counts().to_dict()\n",
    "    total_count = len(y)\n",
    "    prior = {cls: count / total_count for cls, count in class_counts.items()}\n",
    "    return prior"
   ]
  },
  {
   "cell_type": "code",
   "execution_count": 5,
   "metadata": {},
   "outputs": [],
   "source": [
    "def calculate_likelihood(X, y):\n",
    "    likelihood = {}\n",
    "    for feature in X.columns:\n",
    "        likelihood[feature] = {}\n",
    "        for feature_value in X[feature].unique():\n",
    "            likelihood[feature][feature_value] = {}\n",
    "            for class_value in y.unique():\n",
    "                feature_class_count = len(X[(X[feature] == feature_value) & (y == class_value)])\n",
    "                class_count = len(y[y == class_value])\n",
    "                likelihood[feature][feature_value][class_value] = (feature_class_count + 1) / (class_count + len(X[feature].unique()))\n",
    "    return likelihood"
   ]
  },
  {
   "cell_type": "code",
   "execution_count": 6,
   "metadata": {},
   "outputs": [],
   "source": [
    "def calculate_posterior(sample, prior, likelihood):\n",
    "    posteriors = {}\n",
    "    for class_value, class_prior in prior.items():\n",
    "        posterior = class_prior\n",
    "        for feature, feature_value in sample.items():\n",
    "            if feature_value in likelihood[feature]:\n",
    "                posterior *= likelihood[feature][feature_value].get(class_value, 1e-5)\n",
    "        posteriors[class_value] = posterior\n",
    "    return posteriors"
   ]
  },
  {
   "cell_type": "code",
   "execution_count": 7,
   "metadata": {},
   "outputs": [],
   "source": [
    "def predict(sample, prior, likelihood):\n",
    "    posteriors = calculate_posterior(sample, prior, likelihood)\n",
    "    return max(posteriors, key=posteriors.get)"
   ]
  },
  {
   "cell_type": "code",
   "execution_count": 8,
   "metadata": {},
   "outputs": [],
   "source": [
    "def predict_dataset(X, prior, likelihood):\n",
    "    predictions = []\n",
    "    for _, row in X.iterrows():\n",
    "        predictions.append(predict(row, prior, likelihood))\n",
    "    return predictions"
   ]
  },
  {
   "cell_type": "code",
   "execution_count": 12,
   "metadata": {},
   "outputs": [],
   "source": [
    "from sklearn.model_selection import train_test_split\n",
    "def naive_bayes(file_path, target_column):\n",
    "    # Load and split data\n",
    "    dataset = load_data(file_path)\n",
    "    # dataset = dataset.iloc[:, :10]\n",
    "    X, y = split_features_target(dataset, target_column)\n",
    "\n",
    "    X_train, X_test, y_train, y_test = train_test_split(X, y, test_size=0.2, random_state=42)\n",
    "\n",
    "    prior = calculate_prior(y_train)\n",
    "    likelihood = calculate_likelihood(X_train, y_train)\n",
    "\n",
    "    print(X_test, y_test)\n",
    "    predictions = predict_dataset(X_test, prior, likelihood)\n",
    "    accuracy = np.mean(predictions == y_test)\n",
    "\n",
    "    print(f\"Predictions: {predictions}\")\n",
    "    print(f\"Accuracy on test data: {accuracy:.2f}\")\n",
    "    \n",
    "    return predictions, accuracy"
   ]
  },
  {
   "cell_type": "code",
   "execution_count": 13,
   "metadata": {},
   "outputs": [
    {
     "name": "stdout",
     "output_type": "stream",
     "text": [
      "           id  radius_mean  texture_mean  perimeter_mean  area_mean  \\\n",
      "204     87930        12.47         18.60           81.09      481.9   \n",
      "70     859575        18.94         21.31          123.60     1130.0   \n",
      "131      8670        15.46         19.48          101.70      748.9   \n",
      "431    907915        12.40         17.68           81.47      467.8   \n",
      "540    921385        11.54         14.44           74.65      402.9   \n",
      "..        ...          ...           ...             ...        ...   \n",
      "486    913102        14.64         16.85           94.21      666.0   \n",
      "75    8610404        16.07         19.65          104.10      817.7   \n",
      "249    884689        11.52         14.93           73.87      406.3   \n",
      "238    883270        14.22         27.85           92.55      623.9   \n",
      "265  88995002        20.73         31.12          135.70     1419.0   \n",
      "\n",
      "     smoothness_mean  compactness_mean  concavity_mean  concave points_mean  \\\n",
      "204          0.09965           0.10580         0.08005              0.03821   \n",
      "70           0.09009           0.10290         0.10800              0.07951   \n",
      "131          0.10920           0.12230         0.14660              0.08087   \n",
      "431          0.10540           0.13160         0.07741              0.02799   \n",
      "540          0.09984           0.11200         0.06737              0.02594   \n",
      "..               ...               ...             ...                  ...   \n",
      "486          0.08641           0.06698         0.05192              0.02791   \n",
      "75           0.09168           0.08424         0.09769              0.06638   \n",
      "249          0.10130           0.07808         0.04328              0.02929   \n",
      "238          0.08223           0.10390         0.11030              0.04408   \n",
      "265          0.09469           0.11430         0.13670              0.08646   \n",
      "\n",
      "     symmetry_mean  ...  texture_worst  perimeter_worst  area_worst  \\\n",
      "204         0.1925  ...          24.64            96.05       677.9   \n",
      "70          0.1582  ...          26.58           165.90      1866.0   \n",
      "131         0.1931  ...          26.00           124.90      1156.0   \n",
      "431         0.1811  ...          22.91            89.61       515.8   \n",
      "540         0.1818  ...          19.68            78.78       457.8   \n",
      "..             ...  ...            ...              ...         ...   \n",
      "486         0.1409  ...          25.44           106.00       831.0   \n",
      "75          0.1798  ...          24.56           128.80      1223.0   \n",
      "249         0.1883  ...          21.19            80.88       491.8   \n",
      "238         0.1342  ...          40.54           102.50       764.0   \n",
      "265         0.1769  ...          47.16           214.00      3432.0   \n",
      "\n",
      "     smoothness_worst  compactness_worst  concavity_worst  \\\n",
      "204            0.1426             0.2378           0.2671   \n",
      "70             0.1193             0.2336           0.2687   \n",
      "131            0.1546             0.2394           0.3791   \n",
      "431            0.1450             0.2629           0.2403   \n",
      "540            0.1345             0.2118           0.1797   \n",
      "..                ...                ...              ...   \n",
      "486            0.1142             0.2070           0.2437   \n",
      "75             0.1500             0.2045           0.2829   \n",
      "249            0.1389             0.1582           0.1804   \n",
      "238            0.1081             0.2426           0.3064   \n",
      "265            0.1401             0.2644           0.3442   \n",
      "\n",
      "     concave points_worst  symmetry_worst  fractal_dimension_worst  \\\n",
      "204               0.10150          0.3014                  0.08750   \n",
      "70                0.17890          0.2551                  0.06589   \n",
      "131               0.15140          0.2837                  0.08019   \n",
      "431               0.07370          0.2556                  0.09359   \n",
      "540               0.06918          0.2329                  0.08134   \n",
      "..                    ...             ...                      ...   \n",
      "486               0.07828          0.2455                  0.06596   \n",
      "75                0.15200          0.2650                  0.06387   \n",
      "249               0.09608          0.2664                  0.07809   \n",
      "238               0.08219          0.1890                  0.07796   \n",
      "265               0.16590          0.2868                  0.08218   \n",
      "\n",
      "     Unnamed: 32  \n",
      "204          NaN  \n",
      "70           NaN  \n",
      "131          NaN  \n",
      "431          NaN  \n",
      "540          NaN  \n",
      "..           ...  \n",
      "486          NaN  \n",
      "75           NaN  \n",
      "249          NaN  \n",
      "238          NaN  \n",
      "265          NaN  \n",
      "\n",
      "[114 rows x 32 columns] 204    B\n",
      "70     M\n",
      "131    M\n",
      "431    B\n",
      "540    B\n",
      "      ..\n",
      "486    B\n",
      "75     M\n",
      "249    B\n",
      "238    B\n",
      "265    M\n",
      "Name: diagnosis, Length: 114, dtype: object\n",
      "Predictions: ['B', 'B', 'B', 'M', 'B', 'M', 'B', 'B', 'M', 'B', 'B', 'B', 'B', 'B', 'B', 'M', 'M', 'M', 'B', 'B', 'B', 'B', 'M', 'B', 'B', 'B', 'B', 'B', 'B', 'M', 'B', 'B', 'M', 'B', 'B', 'M', 'B', 'B', 'M', 'B', 'B', 'B', 'B', 'M', 'B', 'B', 'B', 'B', 'M', 'B', 'B', 'M', 'B', 'B', 'B', 'B', 'B', 'M', 'M', 'B', 'B', 'M', 'M', 'B', 'B', 'B', 'B', 'M', 'B', 'M', 'B', 'M', 'B', 'M', 'B', 'B', 'B', 'B', 'B', 'B', 'M', 'B', 'B', 'B', 'M', 'M', 'M', 'M', 'B', 'B', 'M', 'B', 'B', 'B', 'B', 'M', 'B', 'B', 'B', 'M', 'M', 'B', 'B', 'M', 'B', 'B', 'M', 'B', 'M', 'B', 'B', 'B', 'M', 'M']\n",
      "Accuracy on test data: 0.69\n"
     ]
    }
   ],
   "source": [
    "if __name__ == '__main__':\n",
    "    # Path to your CSV file\n",
    "    file_path = 'breast_cancer_data.csv'\n",
    "    target_column = 'diagnosis'  # Name of the target column in your CSV\n",
    "    \n",
    "    naive_bayes(file_path, target_column)"
   ]
  },
  {
   "cell_type": "code",
   "execution_count": null,
   "metadata": {},
   "outputs": [],
   "source": []
  }
 ],
 "metadata": {
  "kernelspec": {
   "display_name": "Python 3",
   "language": "python",
   "name": "python3"
  },
  "language_info": {
   "codemirror_mode": {
    "name": "ipython",
    "version": 3
   },
   "file_extension": ".py",
   "mimetype": "text/x-python",
   "name": "python",
   "nbconvert_exporter": "python",
   "pygments_lexer": "ipython3",
   "version": "3.12.1"
  }
 },
 "nbformat": 4,
 "nbformat_minor": 2
}
