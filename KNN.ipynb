{
 "cells": [
  {
   "cell_type": "code",
   "execution_count": 10,
   "id": "0f27a4f0-2056-4b6d-b662-246a6d49004f",
   "metadata": {},
   "outputs": [],
   "source": [
    "import math\n",
    "from collections import Counter"
   ]
  },
  {
   "cell_type": "code",
   "execution_count": 13,
   "id": "0978bda3-5395-45ea-b487-81d1110d48e0",
   "metadata": {},
   "outputs": [],
   "source": [
    "def classifyAPoint(points, p, k=3):\n",
    "    distance = []\n",
    "    \n",
    "\n",
    "    for group in points:\n",
    "        for feature in points[group]:\n",
    "            euclidean_distance = math.sqrt((feature[0] - p[0]) ** 2 + (feature[1] - p[1]) ** 2)\n",
    "            distance.append((euclidean_distance, group))\n",
    "\n",
    "\n",
    "    distance = sorted(distance)[:k]\n",
    "    class_count = Counter([d[1] for d in distance])\n",
    "    return class_count.most_common(1)[0][0]"
   ]
  },
  {
   "cell_type": "code",
   "execution_count": 14,
   "id": "a96480b4-de13-41f2-a565-e3e36033e323",
   "metadata": {},
   "outputs": [
    {
     "name": "stdout",
     "output_type": "stream",
     "text": [
      "The value classified to the unknown point is: 2\n"
     ]
    }
   ],
   "source": [
    "\n",
    "points = {\n",
    "    0: [(1, 12), (2, 5), (3, 6), (3, 10), (3.5, 8), (2, 11), (2, 9), (1, 7)],\n",
    "    1: [(5, 3), (3, 2), (1.5, 9), (7, 2), (6, 1), (3.8, 1), (5.6, 4), (4, 2), (2, 5)],\n",
    "    2: [(8, 9), (7, 8), (9, 6), (10, 10), (8, 6), (9, 7), (10, 9)]\n",
    "}\n",
    "\n",
    "# Testing point p(x,y)\n",
    "p = (7, 5)\n",
    "k = 3\n",
    "\n",
    "print(\"The value classified to the unknown point is: {}\".\\\n",
    "      format(classifyAPoint(points, p, k)))\n"
   ]
  },
  {
   "cell_type": "code",
   "execution_count": null,
   "id": "3ede9a51-e3d9-4469-8d23-84a5d7cc1bbc",
   "metadata": {},
   "outputs": [],
   "source": []
  }
 ],
 "metadata": {
  "kernelspec": {
   "display_name": "Python 3 (ipykernel)",
   "language": "python",
   "name": "python3"
  },
  "language_info": {
   "codemirror_mode": {
    "name": "ipython",
    "version": 3
   },
   "file_extension": ".py",
   "mimetype": "text/x-python",
   "name": "python",
   "nbconvert_exporter": "python",
   "pygments_lexer": "ipython3",
   "version": "3.12.5"
  }
 },
 "nbformat": 4,
 "nbformat_minor": 5
}
