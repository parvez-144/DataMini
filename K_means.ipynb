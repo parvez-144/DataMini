{
 "cells": [
  {
   "cell_type": "code",
   "execution_count": null,
   "metadata": {
    "vscode": {
     "languageId": "plaintext"
    }
   },
   "outputs": [],
   "source": [
    "import random\n",
    "\n",
    "def calculate_distance(p1, p2):\n",
    "    return (p1[0] - p2[0]) ** 2 + (p1[1] - p2[1]) ** 2\n",
    "\n",
    "def calculate_centroid(cluster):\n",
    "    x_sum, y_sum = 0, 0\n",
    "    for point in cluster:\n",
    "        x_sum += point[0]\n",
    "        y_sum += point[1]\n",
    "    return [x_sum / len(cluster), y_sum / len(cluster)]\n",
    "\n",
    "\n",
    "def k_means_clustering(k, data, max_iterations=100):\n",
    "\n",
    "    centroids = random.sample(data, k)\n",
    "\n",
    "    for iteration in range(max_iterations):\n",
    "        clusters = [[] for _ in range(k)]\n",
    "\n",
    "\n",
    "        for point in data:\n",
    "            distances = [calculate_distance(point, centroid) for centroid in centroids]\n",
    "            nearest_centroid_index = distances.index(min(distances))\n",
    "            clusters[nearest_centroid_index].append(point)\n",
    "\n",
    "        new_centroids = [calculate_centroid(cluster) for cluster in clusters]\n",
    "\n",
    "        if new_centroids == centroids:\n",
    "            break\n",
    "\n",
    "        centroids = new_centroids\n",
    "\n",
    "    return clusters, centroids\n",
    "\n",
    "def predict(q, centroids):\n",
    "    distances = [calculate_distance(q, centroid) for centroid in centroids]\n",
    "    nearest_centroid_index = distances.index(min(distances))\n",
    "    return nearest_centroid_index\n",
    "\n",
    "data = [\n",
    "    [4, 3], [6, 7], [7, 8], [5, 5], [8, 8],\n",
    "    [9, 6], [10, 10], [4, 2], [6, 5], [7, 9],\n",
    "    [5, 7], [8, 7], [9, 9], [10, 8], [3, 3],\n",
    "    [4, 4], [5, 6], [6, 9], [7, 10], [9, 5]\n",
    "]\n",
    "\n",
    "k = 3\n",
    "\n",
    "\n",
    "clusters, centroids = k_means_clustering(k, data)\n",
    "\n",
    "print(f\"Final centroids Values: {centroids}\\n\")\n",
    "for i, cluster in enumerate(clusters):\n",
    "    print(f\"Cluster {i + 1}: {cluster}\")\n",
    "\n",
    "q = [8, 5]\n",
    "predicted_cluster = predict(q, centroids)\n",
    "print(f\"\\nThe point {q} belongs to Cluster {predicted_cluster + 1}\")"
   ]
  }
 ],
 "metadata": {
  "language_info": {
   "name": "python"
  }
 },
 "nbformat": 4,
 "nbformat_minor": 2
}
