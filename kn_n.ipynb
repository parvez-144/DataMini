{
 "cells": [
  {
   "cell_type": "code",
   "execution_count": null,
   "metadata": {
    "vscode": {
     "languageId": "plaintext"
    }
   },
   "outputs": [],
   "source": [
    "def calDist(q, x):\n",
    "    return (q[0] - x[0]) ** 2 + (q[1] - x[1]) ** 2\n",
    "\n",
    "\n",
    "x = [\n",
    "    [4, 3], [6, 7], [7, 8], [5, 5], [8, 8],\n",
    "    [9, 6], [10, 10], [4, 2], [6, 5], [7, 9],\n",
    "    [5, 7], [8, 7], [9, 9], [10, 8], [3, 3],\n",
    "    [4, 4], [5, 6], [6, 9], [7, 10], [9, 5]\n",
    "]\n",
    "y = [\n",
    "    0, 1, 1, 0, 1,\n",
    "    1, 1, 0, 0, 1,\n",
    "    0, 1, 1, 1, 0,\n",
    "    0, 0, 1, 1, 1\n",
    "]\n",
    "\n",
    "n = len(x)\n",
    "\n",
    "\n",
    "def knn(q, k):\n",
    "    prob_pass, prob_fail = 0, 0\n",
    "    distances = []\n",
    "\n",
    "    for i in range(n):\n",
    "        distance = calDist(q, x[i])\n",
    "        distances.append((distance, i))\n",
    "    distances.sort()\n",
    "\n",
    "    for i in range(k):\n",
    "        index = distances[i][1]\n",
    "        if y[index] == 0:\n",
    "            prob_fail += 1\n",
    "        else:\n",
    "            prob_pass += 1\n",
    "\n",
    "    return 0 if prob_fail > prob_pass else 1\n",
    "\n",
    "\n",
    "q = [3, 1]\n",
    "k = 5\n",
    "\n",
    "\n",
    "res = knn(q, k)\n",
    "\n",
    "if res == 0:\n",
    "    print(\"Fail\")\n",
    "else:\n",
    "    print(\"Pass\")"
   ]
  }
 ],
 "metadata": {
  "language_info": {
   "name": "python"
  }
 },
 "nbformat": 4,
 "nbformat_minor": 2
}
